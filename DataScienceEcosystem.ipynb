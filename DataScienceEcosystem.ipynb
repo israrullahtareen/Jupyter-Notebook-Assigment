{
 "cells": [
  {
   "cell_type": "markdown",
   "id": "5dcb6977-1d7c-4dec-8f57-4e32c07f0614",
   "metadata": {},
   "source": [
    "# Data Science Tools and Ecosystem"
   ]
  },
  {
   "cell_type": "markdown",
   "id": "3f0f63de-938b-495c-b482-a2b2b2e2c894",
   "metadata": {},
   "source": [
    "## In this notebook, Data Science Tools and Ecosystem are summarized."
   ]
  },
  {
   "cell_type": "markdown",
   "id": "52e82a79-33d6-425f-885a-709e23c03953",
   "metadata": {},
   "source": [
    "**Objectives:**\n",
    "* List popular languages for Data Science\n",
    "* Some commonly used libraries by Data Scientists.\n",
    "* Open Source tools for Data Science.\n",
    "* Arithmetic Operations using Python."
   ]
  },
  {
   "cell_type": "markdown",
   "id": "af49e0bd-9c00-44be-bd8f-0a02d16c42a8",
   "metadata": {},
   "source": [
    "### Some of the popular languages that Data Scientists use are:\n",
    "\n",
    "1. Python\n",
    "2. R\n",
    "3. SQL\n",
    "4. C++\n",
    "5. Julia"
   ]
  },
  {
   "cell_type": "markdown",
   "id": "f7658bdf-ef28-4036-ab45-5369b3991f6a",
   "metadata": {},
   "source": [
    "### Some of the commonly used libraries used by Data Scientists include:\n",
    "\n",
    "1. Pandas\n",
    "2. Matplotlib\n",
    "3. Numpy\n",
    "4. Vegas\n",
    "5. Caret\n",
    "6. ggplot2\n",
    "7. Lattice\n",
    "8. sciket-learn\n",
    "9. Seaborn\n",
    "  "
   ]
  },
  {
   "cell_type": "markdown",
   "id": "18ce7e57-e189-45d0-a73f-59b2b0a22220",
   "metadata": {},
   "source": [
    "|Data Science Tools|\n",
    "|------------------|\n",
    "|Jupyter lab|\n",
    "|Github|\n",
    "|Hadoop|"
   ]
  },
  {
   "cell_type": "markdown",
   "id": "250ddd12-f47b-4856-a98f-273c21cb31fe",
   "metadata": {},
   "source": [
    "### Below are a few examples of evaluating arithmetic expressions in Python\n",
    "Print(\"(3*4)+5\")"
   ]
  },
  {
   "cell_type": "code",
   "execution_count": 4,
   "id": "16dc30b7-0c71-4725-b0c4-f95376b32962",
   "metadata": {},
   "outputs": [
    {
     "name": "stdout",
     "output_type": "stream",
     "text": [
      "17\n"
     ]
    }
   ],
   "source": [
    " #This a simple arithmetic expression to mutiply then add integers.\n",
    "print ((3*4)+5)"
   ]
  },
  {
   "cell_type": "code",
   "execution_count": 5,
   "id": "7a0d5a30-fe5d-4d70-a26a-67fc0100246b",
   "metadata": {},
   "outputs": [
    {
     "name": "stdout",
     "output_type": "stream",
     "text": [
      "3.3333333333333335\n"
     ]
    }
   ],
   "source": [
    "# This will convert 200 minutes to hours by diving by 60.\n",
    "print(200/60)"
   ]
  },
  {
   "cell_type": "markdown",
   "id": "49c96a8c-f5ab-4508-9d2f-87d6a9ca0ed1",
   "metadata": {},
   "source": [
    "## Author\n",
    "Israr Ullah\n"
   ]
  },
  {
   "cell_type": "code",
   "execution_count": null,
   "id": "9015ad3d-293d-4977-a220-0143c49dd3bd",
   "metadata": {},
   "outputs": [],
   "source": []
  }
 ],
 "metadata": {
  "kernelspec": {
   "display_name": "Python [conda env:base] *",
   "language": "python",
   "name": "conda-base-py"
  },
  "language_info": {
   "codemirror_mode": {
    "name": "ipython",
    "version": 3
   },
   "file_extension": ".py",
   "mimetype": "text/x-python",
   "name": "python",
   "nbconvert_exporter": "python",
   "pygments_lexer": "ipython3",
   "version": "3.13.5"
  }
 },
 "nbformat": 4,
 "nbformat_minor": 5
}
